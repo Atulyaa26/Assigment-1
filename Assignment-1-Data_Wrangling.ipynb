{
 "cells": [
  {
   "cell_type": "code",
   "execution_count": 2,
   "id": "c8a5716e",
   "metadata": {},
   "outputs": [],
   "source": [
    "## Data Analysis libraries\n",
    "import pandas as pd\n",
    "import numpy as np\n",
    "\n",
    "## Data Visulaization Libraries\n",
    "import matplotlib.pyplot as plt\n",
    "import seaborn as sns"
   ]
  },
  {
   "cell_type": "code",
   "execution_count": 8,
   "id": "d0eb5f1b",
   "metadata": {},
   "outputs": [
    {
     "data": {
      "text/plain": [
       "array([0., 0., 0., 0., 1., 0., 0., 0., 0., 0.])"
      ]
     },
     "execution_count": 8,
     "metadata": {},
     "output_type": "execute_result"
    }
   ],
   "source": [
    "## Code-1:- Create a null vector of size 10 but the fifth value which is 1\n",
    "null_vector=np.zeros(10)\n",
    "null_vector[4]=1\n",
    "null_vector"
   ]
  },
  {
   "cell_type": "code",
   "execution_count": 9,
   "id": "71576941",
   "metadata": {},
   "outputs": [
    {
     "data": {
      "text/plain": [
       "array([10, 11, 12, 13, 14, 15, 16, 17, 18, 19, 20, 21, 22, 23, 24, 25, 26,\n",
       "       27, 28, 29, 30, 31, 32, 33, 34, 35, 36, 37, 38, 39, 40, 41, 42, 43,\n",
       "       44, 45, 46, 47, 48])"
      ]
     },
     "execution_count": 9,
     "metadata": {},
     "output_type": "execute_result"
    }
   ],
   "source": [
    "## Code-2:- Create a vector with values ranging from 10 to 49\n",
    "vector=np.arange(10,49)\n",
    "vector"
   ]
  },
  {
   "cell_type": "code",
   "execution_count": 10,
   "id": "2963065d",
   "metadata": {},
   "outputs": [
    {
     "data": {
      "text/plain": [
       "array([[0, 1, 2],\n",
       "       [3, 4, 5],\n",
       "       [6, 7, 8]])"
      ]
     },
     "execution_count": 10,
     "metadata": {},
     "output_type": "execute_result"
    }
   ],
   "source": [
    "## Code-3:- Create a 3x3 matrix with values ranging from 0 to 8\n",
    "matrix = np.arange(0,9).reshape(3,3)\n",
    "matrix"
   ]
  },
  {
   "cell_type": "code",
   "execution_count": 16,
   "id": "40573197",
   "metadata": {},
   "outputs": [
    {
     "name": "stdout",
     "output_type": "stream",
     "text": [
      "All index value of 0 is:  [2 3 5]\n"
     ]
    }
   ],
   "source": [
    "## Code-4:- Find indices of non-zero elements from [1,2,0,0,4,0]\n",
    "arr1=np.array([1,2,0,0,4,0])\n",
    "arr1\n",
    "print(\"All index value of 0 is: \", np.where(arr1 == 0)[0])"
   ]
  },
  {
   "cell_type": "code",
   "execution_count": 23,
   "id": "704408cb",
   "metadata": {},
   "outputs": [
    {
     "data": {
      "text/plain": [
       "array([[95, 34, 70, 80,  8, 23, 89, 50, 61, 74],\n",
       "       [19, 77, 30, 75, 76, 46, 89, 97, 87, 47],\n",
       "       [81, 89, 10, 52, 41, 75,  7, 76, 77, 59],\n",
       "       [82,  4, 25, 48, 85, 75, 41, 93, 66, 60],\n",
       "       [ 0, 43, 72, 20, 11, 90, 77, 12,  3, 43],\n",
       "       [ 6, 93, 17, 40, 81, 18, 67, 94, 79, 36],\n",
       "       [87, 72, 37, 46, 94, 21, 15, 24,  9,  4],\n",
       "       [16,  4, 43, 43, 12, 24, 10,  5,  5, 43],\n",
       "       [59, 11, 34, 75, 31, 37, 62, 94, 10, 47],\n",
       "       [43, 54, 77, 13, 67,  6, 94,  5,  5, 49]])"
      ]
     },
     "execution_count": 23,
     "metadata": {},
     "output_type": "execute_result"
    }
   ],
   "source": [
    "## Code-5:- Create a 10x10 array with random values and find the minimum and maximum values.\n",
    "arr=np.random.randint(100,size=(10,10))\n",
    "arr"
   ]
  },
  {
   "cell_type": "code",
   "execution_count": 24,
   "id": "ddcd9f54",
   "metadata": {},
   "outputs": [
    {
     "name": "stdout",
     "output_type": "stream",
     "text": [
      "The maximum value is  97\n",
      "The minimum value is  0\n"
     ]
    }
   ],
   "source": [
    "print(\"The maximum value is \",np.max(arr))\n",
    "print(\"The minimum value is \",np.min(arr))"
   ]
  },
  {
   "cell_type": "code",
   "execution_count": 26,
   "id": "c10ea5b7",
   "metadata": {},
   "outputs": [
    {
     "data": {
      "text/plain": [
       "array([ 1, 19, 20,  0, 18,  4, 20,  6, 17,  4, 17, 28, 24,  5,  6, 12, 11,\n",
       "       12, 10, 18,  9, 12, 18,  8, 19, 21, 17, 24,  2,  8])"
      ]
     },
     "execution_count": 26,
     "metadata": {},
     "output_type": "execute_result"
    }
   ],
   "source": [
    "## Code-6:- Create a random vector of size 30 and find the mean value.\n",
    "ran_vec=np.random.randint(30,size=30)\n",
    "ran_vec"
   ]
  },
  {
   "cell_type": "code",
   "execution_count": 28,
   "id": "09a9a38e",
   "metadata": {},
   "outputs": [
    {
     "name": "stdout",
     "output_type": "stream",
     "text": [
      "The mean value of random vector is  13.0\n"
     ]
    }
   ],
   "source": [
    "print(\"The mean value of random vector is \",np.mean(ran_vec))"
   ]
  },
  {
   "cell_type": "code",
   "execution_count": null,
   "id": "09ab2f9c",
   "metadata": {},
   "outputs": [],
   "source": []
  }
 ],
 "metadata": {
  "kernelspec": {
   "display_name": "Python 3 (ipykernel)",
   "language": "python",
   "name": "python3"
  },
  "language_info": {
   "codemirror_mode": {
    "name": "ipython",
    "version": 3
   },
   "file_extension": ".py",
   "mimetype": "text/x-python",
   "name": "python",
   "nbconvert_exporter": "python",
   "pygments_lexer": "ipython3",
   "version": "3.10.9"
  }
 },
 "nbformat": 4,
 "nbformat_minor": 5
}
